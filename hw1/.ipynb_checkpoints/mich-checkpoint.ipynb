{
 "cells": [
  {
   "cell_type": "code",
   "execution_count": 173,
   "metadata": {},
   "outputs": [],
   "source": [
    "## importing pandas and numpy\n",
    "import numpy as np\n",
    "import pandas\n",
    "import math"
   ]
  },
  {
   "cell_type": "code",
   "execution_count": 159,
   "metadata": {},
   "outputs": [
    {
     "name": "stdout",
     "output_type": "stream",
     "text": [
      "     0         1         2\n",
      "0    1  3.068028  0.276975\n",
      "1    1  1.707931 -0.243793\n",
      "2    1  3.262029  1.427968\n",
      "3    1  2.627589 -0.788202\n",
      "4    1  3.885911  1.318837\n",
      "..  ..       ...       ...\n",
      "995 -1  1.801198  1.693230\n",
      "996 -1 -0.138323 -1.501335\n",
      "997 -1  2.426164  2.564586\n",
      "998 -1  1.449153  3.121982\n",
      "999 -1  1.732208  1.646892\n",
      "\n",
      "[1000 rows x 3 columns]\n"
     ]
    }
   ],
   "source": [
    "## reading in the dataframe\n",
    "df = pandas.read_csv(\"~/STAT339/S1test.csv\", header = None)\n",
    "# print (np.shape(df))\n",
    "print(df)"
   ]
  },
  {
   "cell_type": "code",
   "execution_count": 165,
   "metadata": {},
   "outputs": [],
   "source": [
    "## save dataset as array [(class1, input1_1, input1_2), (class2, input2_1, input2_2), ...]\n",
    "def read_data(dataset):\n",
    "    data = []\n",
    "    dim = np.shape(df)\n",
    "    for i in range(dim[0]): ## for every row\n",
    "        temp = []\n",
    "        for j in range(dim[1]): ## append every column value\n",
    "            temp.append(df[j][i]) ## array of (class, input1, input2)\n",
    "        data.append(temp)\n",
    "        return data"
   ]
  },
  {
   "cell_type": "code",
   "execution_count": 185,
   "metadata": {},
   "outputs": [],
   "source": [
    "## find the distance between two vector points\n",
    "## assuming the input is (class, input1, input2)\n",
    "def euclid_distance(vectorA, vectorB):\n",
    "    dist = 0\n",
    "    for i in range(1, len(vectorA)):\n",
    "        square = (vectorA[i]-vectorB[i]) * (vectorA[i]-vectorB[i])\n",
    "        dist += square\n",
    "    distance = math.sqrt(dist)\n",
    "    return distance"
   ]
  },
  {
   "cell_type": "code",
   "execution_count": 179,
   "metadata": {
    "scrolled": true
   },
   "outputs": [
    {
     "name": "stdout",
     "output_type": "stream",
     "text": [
      "(1, 4, 5) (1, 2, 3)\n",
      "square 4\n",
      "square 4\n",
      "2.8284271247461903\n"
     ]
    }
   ],
   "source": [
    "## testing euclid_distance()\n",
    "train = ((1, 2, 3))\n",
    "test = ((1, 4, 5))\n",
    "print(test, train)\n",
    "print(euclid_distance(test, train))"
   ]
  },
  {
   "cell_type": "code",
   "execution_count": 186,
   "metadata": {},
   "outputs": [],
   "source": [
    "## find the distance between the training set and a given vector\n",
    "## assuming the given vector = [class, input1, input2]\n",
    "## assuming the training set = ([class, input1_1, input1_2], [class, input2_1, 2_2]...)\n",
    "def distALL(given, train):\n",
    "    all_dist = []\n",
    "    for i in range(len(train)):\n",
    "        all_dist.append(euclid_distance(given, train[i]))\n",
    "    return all_dist"
   ]
  },
  {
   "cell_type": "code",
   "execution_count": 187,
   "metadata": {},
   "outputs": [
    {
     "name": "stdout",
     "output_type": "stream",
     "text": [
      "(0, 1, 2) ([0, 1, 2], [0, 2, 3], [0, 3, 4])\n",
      "[0.0, 1.4142135623730951, 2.8284271247461903]\n"
     ]
    }
   ],
   "source": [
    "## testing distALL()\n",
    "given = (0, 1, 2)\n",
    "test = ([0, 1, 2], [0, 2, 3], [0, 3, 4])\n",
    "print(given, test)\n",
    "print(distALL(given, test))"
   ]
  },
  {
   "cell_type": "code",
   "execution_count": 194,
   "metadata": {},
   "outputs": [],
   "source": [
    "## want to add the distance to the vector values so you know which vector has which distance to given feature vector\n",
    "## expected ourput will be [class, input1, inpu2, distance]\n",
    "def add(train, dist_all):\n",
    "    for i in range(len(train)):\n",
    "        train[i].append(dist_all[i])\n",
    "    return train"
   ]
  },
  {
   "cell_type": "code",
   "execution_count": 203,
   "metadata": {},
   "outputs": [
    {
     "name": "stdout",
     "output_type": "stream",
     "text": [
      "[[0, 0, 0], [1, 1, 1], [2, 2, 2]] (5, 6, 7)\n",
      "[[0, 0, 0, 5], [1, 1, 1, 6], [2, 2, 2, 7]]\n"
     ]
    }
   ],
   "source": [
    "## testing add()\n",
    "train = [[0, 0, 0], [1, 1, 1], [2, 2, 2]]\n",
    "dist_all = (5, 6, 7)\n",
    "print(train, dist_all)\n",
    "print(add(train, dist_all))"
   ]
  },
  {
   "cell_type": "code",
   "execution_count": 216,
   "metadata": {},
   "outputs": [],
   "source": [
    "## find the k nearest neighbors\n",
    "def k_neigh(data, k):\n",
    "    data.sort(key = lambda x: x[3]) ## sort by the third index (distance)\n",
    "    return data[0:k]"
   ]
  },
  {
   "cell_type": "code",
   "execution_count": 217,
   "metadata": {},
   "outputs": [
    {
     "name": "stdout",
     "output_type": "stream",
     "text": [
      "before [[0, 0, 0, 9], [1, 1, 1, 16], [2, 2, 2, 7], [4, 5, 6, 8], [3, 6, 8, 0], [1, 3, 4, 2], [1, 5, 9, 5], [33, 567, 9, 5]]\n",
      "after [[3, 6, 8, 0], [1, 3, 4, 2], [1, 5, 9, 5]]\n"
     ]
    }
   ],
   "source": [
    "## testing k_neigh()\n",
    "train = [[0, 0, 0], [1, 1, 1], [2, 2, 2], [4, 5, 6], [3, 6, 8], [1, 3, 4], [1, 5, 9], [33, 567, 9]]\n",
    "dist_all = (9, 16, 7, 8, 0, 2, 5, 5)\n",
    "test = add(train, dist_all)\n",
    "print(\"before\", train)\n",
    "print(\"after\", k_neigh(train, 3))"
   ]
  },
  {
   "cell_type": "code",
   "execution_count": 222,
   "metadata": {},
   "outputs": [],
   "source": [
    "## find what the majority class is in the k nearest neighbors\n",
    "def majority_class(k_neigh):\n",
    "    most_class = []\n",
    "    for i in range(len(k_neigh)):\n",
    "        most_class.append(k_neigh[i][0])\n",
    "    return np.bincount(most_class).argmax()"
   ]
  },
  {
   "cell_type": "code",
   "execution_count": 225,
   "metadata": {},
   "outputs": [
    {
     "name": "stdout",
     "output_type": "stream",
     "text": [
      "0\n"
     ]
    }
   ],
   "source": [
    "## testing majority_class()\n",
    "train = [[0, 0, 0], [0, 1, 1], [10, 2, 2], [0, 5, 6], [0, 6, 8], [0, 3, 4], [0, 5, 9], [0, 567, 9]]\n",
    "print(majority_class(train))"
   ]
  },
  {
   "cell_type": "code",
   "execution_count": 97,
   "metadata": {
    "scrolled": true
   },
   "outputs": [
    {
     "name": "stdout",
     "output_type": "stream",
     "text": [
      "1.4142135623730951\n"
     ]
    }
   ],
   "source": []
  },
  {
   "cell_type": "code",
   "execution_count": null,
   "metadata": {},
   "outputs": [],
   "source": []
  },
  {
   "cell_type": "code",
   "execution_count": null,
   "metadata": {},
   "outputs": [],
   "source": []
  },
  {
   "cell_type": "code",
   "execution_count": null,
   "metadata": {},
   "outputs": [],
   "source": []
  }
 ],
 "metadata": {
  "kernelspec": {
   "display_name": "Python 3",
   "language": "python",
   "name": "python3"
  },
  "language_info": {
   "codemirror_mode": {
    "name": "ipython",
    "version": 3
   },
   "file_extension": ".py",
   "mimetype": "text/x-python",
   "name": "python",
   "nbconvert_exporter": "python",
   "pygments_lexer": "ipython3",
   "version": "3.7.3"
  }
 },
 "nbformat": 4,
 "nbformat_minor": 2
}
